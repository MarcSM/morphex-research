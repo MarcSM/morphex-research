{
 "cells": [
  {
   "cell_type": "markdown",
   "metadata": {},
   "source": [
    "# Harmonic Transposition\n",
    "\n",
    "This notebook shows how the harmonic transposition (predominant note version) is done in order to match the target note."
   ]
  },
  {
   "cell_type": "code",
   "execution_count": 1,
   "metadata": {},
   "outputs": [
    {
     "data": {
      "text/html": [
       "<style>.widget-readout { color: white; font-size: 1.2em; box-shadow: none !important ;} </style>"
      ],
      "text/plain": [
       "<IPython.core.display.HTML object>"
      ]
     },
     "metadata": {},
     "output_type": "display_data"
    }
   ],
   "source": [
    "# Enabling ipympl for interactive plots and styling the UI a bit\n",
    "# get_ipython().run_line_magic('matplotlib', 'widget') # ipympl\n",
    "get_ipython().run_cell_magic('html', '', '<style>.widget-readout { color: white; font-size: 1.2em; box-shadow: none !important ;} </style>') # style\n",
    "\n",
    "import sys, os, datetime\n",
    "import numpy as np\n",
    "import matplotlib.pyplot as plt\n",
    "from ipywidgets import interact\n",
    "\n",
    "%matplotlib inline\n",
    "\n",
    "sys.path.append('../')\n",
    "from utils.structures import Sound\n",
    "\n",
    "# Constants\n",
    "DEFAULT_DATA_FOLDER = '../../data'\n",
    "DEFAULT_SOUNDS_FOLDER = DEFAULT_DATA_FOLDER + '/sounds'\n",
    "DEFAULT_SOUND_FILE_1 = DEFAULT_SOUNDS_FOLDER + '/violin-B3.wav'\n",
    "DEFAULT_SOUND_FILE_2 = DEFAULT_SOUNDS_FOLDER + '/soprano-E4.wav'\n",
    "ANALYSIS_OUTPUT_FOLDER = DEFAULT_DATA_FOLDER + '/analysis_output'\n",
    "MORPHINGS_OUTPUT_FOLDER = DEFAULT_DATA_FOLDER + 'morphing_output_test'\n",
    "\n",
    "DARK_MODE = True\n",
    "\n",
    "if (DARK_MODE):\n",
    "    params = {\n",
    "        \"text.color\" : \"w\",\n",
    "        \"ytick.color\" : \"w\",\n",
    "        \"xtick.color\" : \"w\",\n",
    "        \"axes.labelcolor\" : \"w\",\n",
    "        \"axes.edgecolor\" : \"w\",\n",
    "#         \"axes.facecolor\" : 'e5e5e5'\n",
    "    }\n",
    "    plt.rcParams.update(params)"
   ]
  },
  {
   "cell_type": "code",
   "execution_count": 2,
   "metadata": {},
   "outputs": [],
   "source": [
    "# Load the sounds by default\n",
    "sound_1 = Sound(DEFAULT_SOUND_FILE_1)\n",
    "sound_2 = Sound(DEFAULT_SOUND_FILE_2)\n",
    "\n",
    "# Loading the .had files\n",
    "sound_1.load_had_file()\n",
    "sound_2.load_had_file()\n",
    "\n",
    "# Empty sound where the morph will be generated \n",
    "sound_morph = Sound(DEFAULT_SOUND_FILE_2)"
   ]
  },
  {
   "cell_type": "code",
   "execution_count": 3,
   "metadata": {
    "scrolled": false
   },
   "outputs": [
    {
     "data": {
      "application/vnd.jupyter.widget-view+json": {
       "model_id": "43053205279e4dffb0166c1d4b65086a",
       "version_major": 2,
       "version_minor": 0
      },
      "text/plain": [
       "interactive(children=(FloatSlider(value=440.0, description='cycles_per_second', max=1000.0, min=10.0), Output(…"
      ]
     },
     "metadata": {},
     "output_type": "display_data"
    },
    {
     "data": {
      "text/plain": [
       "<function __main__.harmonics_transposition_predominant_note(cycles_per_second=440)>"
      ]
     },
     "execution_count": 3,
     "metadata": {},
     "output_type": "execute_result"
    }
   ],
   "source": [
    "def harmonics_transposition_predominant_note(cycles_per_second=440):\n",
    "    \n",
    "    freqs = sound_1.analysis.output.values.hfreq\n",
    "    \n",
    "    # Predominant Note (Hz)\n",
    "    predominant_note_hz = 246.94 # B3\n",
    "\n",
    "    # Recalculate the harmonics for the current midi note\n",
    "    for i in range(0, len(freqs), 1):\n",
    "        \n",
    "        # Fundamental note of this frame (in Hz)\n",
    "        current_note = freqs[i][0];\n",
    "    \n",
    "        for j in range(0, len(freqs[i]), 1):\n",
    "            freqs[i][j] = (freqs[i][j] / predominant_note_hz) * cycles_per_second\n",
    "                \n",
    "    freqs[ freqs==0 ] = np.nan\n",
    "    \n",
    "    fig = plt.figure(figsize=(20, 15))\n",
    "    plt.plot(freqs)\n",
    "    plt.xlim(0, len(freqs))\n",
    "    plt.ylim(0, 15000)\n",
    "    plt.show()\n",
    "    fig.savefig('../images/harmonics_transposition_predominant_note.png', transparent=True, dpi=fig.dpi*4)\n",
    "\n",
    "    fig2 = plt.figure(figsize=(20, 4))\n",
    "    plt.plot(freqs)\n",
    "    plt.xlim(0, len(freqs))\n",
    "    plt.ylim(430, 450)\n",
    "    plt.show()\n",
    "    fig2.savefig('../images/harmonics_transposition_predominant_note_f0_only.png', transparent=True, dpi=fig.dpi*4)\n",
    "    \n",
    "interactive_plot = interact(harmonics_transposition_predominant_note, cycles_per_second=(10.0, 1000.0))\n",
    "interactive_plot"
   ]
  }
 ],
 "metadata": {
  "kernelspec": {
   "display_name": "Python 3",
   "language": "python",
   "name": "python3"
  },
  "language_info": {
   "codemirror_mode": {
    "name": "ipython",
    "version": 3
   },
   "file_extension": ".py",
   "mimetype": "text/x-python",
   "name": "python",
   "nbconvert_exporter": "python",
   "pygments_lexer": "ipython3",
   "version": "3.7.3"
  }
 },
 "nbformat": 4,
 "nbformat_minor": 2
}
