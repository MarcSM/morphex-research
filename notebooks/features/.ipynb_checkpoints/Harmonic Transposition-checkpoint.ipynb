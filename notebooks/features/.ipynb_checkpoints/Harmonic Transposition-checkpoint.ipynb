{
 "cells": [
  {
   "cell_type": "markdown",
   "metadata": {},
   "source": [
    "# Harmonic Transposition\n",
    "\n",
    "This notebook shows how the harmonic transposition is done in order to match the target note."
   ]
  },
  {
   "cell_type": "code",
   "execution_count": 4,
   "metadata": {},
   "outputs": [
    {
     "data": {
      "text/html": [
       "<style>.widget-readout { color: white; font-size: 1.2em; box-shadow: none !important ;} </style>"
      ],
      "text/plain": [
       "<IPython.core.display.HTML object>"
      ]
     },
     "metadata": {},
     "output_type": "display_data"
    }
   ],
   "source": [
    "# Enabling ipympl for interactive plots and styling the UI a bit\n",
    "# get_ipython().run_line_magic('matplotlib', 'widget') # ipympl\n",
    "get_ipython().run_cell_magic('html', '', '<style>.widget-readout { color: white; font-size: 1.2em; box-shadow: none !important ;} </style>') # style\n",
    "\n",
    "import sys, os, datetime\n",
    "import numpy as np\n",
    "import pyaudio as pa\n",
    "import matplotlib.pyplot as plt\n",
    "from ipywidgets import interactive\n",
    "\n",
    "%matplotlib inline\n",
    "\n",
    "sys.path.append('/sms-tools/software/models')\n",
    "import utilFunctions as UF\n",
    "import sineModel as SM\n",
    "# import stochasticModel as STM\n",
    "\n",
    "sys.path.append('../')\n",
    "from utils.structures import Sound\n",
    "from scipy.signal import resample, blackmanharris, triang, hanning\n",
    "from scipy.fftpack import fft, ifft, fftshift\n",
    "from scipy.io.wavfile import write\n",
    "from ipywidgets import ( HTML, Layout, FloatSlider, Label, ToggleButton, Button, GridBox, interactive_output, interact )\n",
    "\n",
    "# Constants\n",
    "DEFAULT_DATA_FOLDER = '../../data'\n",
    "DEFAULT_SOUNDS_FOLDER = DEFAULT_DATA_FOLDER + '/sounds'\n",
    "DEFAULT_SOUND_FILE_1 = DEFAULT_SOUNDS_FOLDER + '/violin-B3.wav'\n",
    "DEFAULT_SOUND_FILE_2 = DEFAULT_SOUNDS_FOLDER + '/soprano-E4.wav'\n",
    "ANALYSIS_OUTPUT_FOLDER = DEFAULT_DATA_FOLDER + '/analysis_output'\n",
    "MORPHINGS_OUTPUT_FOLDER = DEFAULT_DATA_FOLDER + 'morphing_output_test'\n",
    "\n",
    "NS = 512 # size of fft used in synthesis\n",
    "H = int(NS/4) # hop size (has to be 1/4 of NS) - 128\n",
    "NUMBER_OF_FFT_SYNTH_FRAMES = 4 # number of FFT synth frames\n",
    "FRAME_TO_PLOT = 0 # 100 # frame to plot\n",
    "NUMBER_OF_FRAMES_TO_PLOT  = 8 # number of frames to plots\n",
    "GENERATE_PLOTS = False # generate the plots\n",
    "\n",
    "DARK_MODE = False\n",
    "\n",
    "if (DARK_MODE):\n",
    "    params = {\n",
    "        \"text.color\" : \"w\",\n",
    "        \"ytick.color\" : \"w\",\n",
    "        \"xtick.color\" : \"w\",\n",
    "        \"axes.labelcolor\" : \"w\",\n",
    "        \"axes.edgecolor\" : \"w\",\n",
    "#         \"axes.facecolor\" : 'e5e5e5'\n",
    "    }\n",
    "    plt.rcParams.update(params)"
   ]
  },
  {
   "cell_type": "code",
   "execution_count": null,
   "metadata": {},
   "outputs": [],
   "source": [
    "# Load the sounds by default\n",
    "sound_1 = Sound(DEFAULT_SOUND_FILE_1)\n",
    "sound_2 = Sound(DEFAULT_SOUND_FILE_2)\n",
    "\n",
    "# Loading the .had files\n",
    "sound_1.load_had_file()\n",
    "sound_2.load_had_file()\n",
    "\n",
    "# Empty sound where the morph will be generated \n",
    "sound_morph = Sound(DEFAULT_SOUND_FILE_2)"
   ]
  },
  {
   "cell_type": "code",
   "execution_count": null,
   "metadata": {},
   "outputs": [],
   "source": [
    "def hramonic_transposition(cycles_per_second):\n",
    "    \n",
    "#     %config InlineBackend.figure_format = 'svg'\n",
    "    \n",
    "    plt.figure(figsize=(10,8))\n",
    "    freqs = sound_1.analysis.output.values.hfreq\n",
    "    \n",
    "    # Recalculate the harmonics for the current midi note\n",
    "    for i in range(0, len(freqs), 1):\n",
    "        \n",
    "        # Fundamental note of this frame (in Hz)\n",
    "        current_fundamental = freqs[i][0];\n",
    "    \n",
    "        for j in range(0, len(freqs[i]), 1):\n",
    "            freqs[i][j] = (freqs[i][j] / current_fundamental) * cycles_per_second\n",
    "                \n",
    "    freqs[ freqs==0 ] = np.nan\n",
    "\n",
    "    plt.plot(freqs)\n",
    "    plt.ylim(0, 15000)\n",
    "    plt.show()\n",
    "\n",
    "interactive_plot = interact(hramonic_transposition, cycles_per_second=(10.0, 1000.0))\n",
    "interactive_plot"
   ]
  },
  {
   "cell_type": "code",
   "execution_count": null,
   "metadata": {},
   "outputs": [],
   "source": []
  }
 ],
 "metadata": {
  "kernelspec": {
   "display_name": "Python 3",
   "language": "python",
   "name": "python3"
  },
  "language_info": {
   "codemirror_mode": {
    "name": "ipython",
    "version": 3
   },
   "file_extension": ".py",
   "mimetype": "text/x-python",
   "name": "python",
   "nbconvert_exporter": "python",
   "pygments_lexer": "ipython3",
   "version": "3.7.3"
  }
 },
 "nbformat": 4,
 "nbformat_minor": 2
}
