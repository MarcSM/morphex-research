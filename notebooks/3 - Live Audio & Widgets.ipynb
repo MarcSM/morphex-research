{
 "cells": [
  {
   "cell_type": "markdown",
   "metadata": {},
   "source": [
    "# 3 - Live Audio & Widgets\n",
    "\n",
    "This notebook shows a very simple integration of a beat frequency generator using live audio streaming plus ipywidgets interactivity."
   ]
  },
  {
   "cell_type": "code",
   "execution_count": 1,
   "metadata": {},
   "outputs": [
    {
     "data": {
      "text/html": [
       "<style>.widget-readout { color: white; font-size: 1.2em; box-shadow: none !important ;} </style>"
      ],
      "text/plain": [
       "<IPython.core.display.HTML object>"
      ]
     },
     "metadata": {},
     "output_type": "display_data"
    }
   ],
   "source": [
    "import numpy as np\n",
    "import pyaudio as pa\n",
    "import matplotlib.pyplot as plt\n",
    "from ipywidgets import FloatSlider, interact, interactive, interactive_output\n",
    "\n",
    "DARK_MODE = True\n",
    "\n",
    "if (DARK_MODE):\n",
    "    \n",
    "    # Styling the plots\n",
    "    params = {\n",
    "        \"text.color\" : \"w\",\n",
    "        \"ytick.color\" : \"w\",\n",
    "        \"xtick.color\" : \"w\",\n",
    "        \"axes.labelcolor\" : \"w\",\n",
    "        \"axes.edgecolor\" : \"w\",\n",
    "        \"axes.facecolor\" : 'e5e5e5'\n",
    "    }\n",
    "    plt.rcParams.update(params)\n",
    "    \n",
    "    # Styling the UI a bit\n",
    "    get_ipython().run_cell_magic('html', '', '<style>.widget-readout { color: white; font-size: 1.2em; box-shadow: none !important ;} </style>') # style"
   ]
  },
  {
   "cell_type": "code",
   "execution_count": 2,
   "metadata": {},
   "outputs": [],
   "source": [
    "def beat_freq(f1=220.0, f2=224.0):\n",
    "    \n",
    "    # Note: the generated signal is not chunked into frames,\n",
    "    # this piece of code it's only for illustrative purposes\n",
    "    # chunk = 1024\n",
    "    max_time = 1\n",
    "    rate = 8000\n",
    "    times = np.linspace(0,max_time,rate*max_time)\n",
    "    \n",
    "    pya = pa.PyAudio()\n",
    "    stream = pya.open(format=pa.paFloat32,\n",
    "                      channels=1,\n",
    "                      rate=rate,\n",
    "                      output=True)\n",
    "    \n",
    "    signal = np.sin(2*np.pi*f1*times) + np.sin(2*np.pi*f2*times)\n",
    "    \n",
    "    plt.figure(num='signal', figsize=(14, 6))\n",
    "    plt.title('signal')\n",
    "    plt.plot(signal[0:6000]);\n",
    "    plt.show()\n",
    "    \n",
    "    frame_to_play_scaled = signal.astype(np.float32).tostring()\n",
    "\n",
    "    # Live Stream\n",
    "    stream.write(frame_to_play_scaled)\n",
    "    \n",
    "    # Close the sound stream\n",
    "    stream.stop_stream()\n",
    "    stream.close()"
   ]
  },
  {
   "cell_type": "code",
   "execution_count": 5,
   "metadata": {},
   "outputs": [
    {
     "data": {
      "application/vnd.jupyter.widget-view+json": {
       "model_id": "78bed76be1c84dd3bb8fe9c9be94e74b",
       "version_major": 2,
       "version_minor": 0
      },
      "text/plain": [
       "interactive(children=(FloatSlider(value=220.0, description='f1', max=300.0, min=200.0, step=1.0), FloatSlider(…"
      ]
     },
     "metadata": {},
     "output_type": "display_data"
    }
   ],
   "source": [
    "interact(\n",
    "    beat_freq,\n",
    "    f1=FloatSlider(min=200.0, max=300.0,step=1.0,value=220.0),\n",
    "    f2=FloatSlider(min=200.0, max=300.0,step=1.0,value=224.0)\n",
    ");"
   ]
  }
 ],
 "metadata": {
  "kernelspec": {
   "display_name": "Python 3",
   "language": "python",
   "name": "python3"
  },
  "language_info": {
   "codemirror_mode": {
    "name": "ipython",
    "version": 3
   },
   "file_extension": ".py",
   "mimetype": "text/x-python",
   "name": "python",
   "nbconvert_exporter": "python",
   "pygments_lexer": "ipython3",
   "version": "3.7.3"
  }
 },
 "nbformat": 4,
 "nbformat_minor": 2
}
