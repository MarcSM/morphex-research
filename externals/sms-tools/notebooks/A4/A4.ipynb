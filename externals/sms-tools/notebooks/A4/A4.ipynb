{
 "cells": [
  {
   "cell_type": "markdown",
   "metadata": {},
   "source": [
    "# A4\n",
    "## Part 1 - Extracting the main lobe of the spectrum of a window"
   ]
  },
  {
   "cell_type": "code",
   "execution_count": null,
   "metadata": {},
   "outputs": [],
   "source": [
    "import os\n",
    "import sys\n",
    "import numpy as np\n",
    "\n",
    "from scipy.signal import get_window\n",
    "from scipy.fftpack import fft, fftshift\n",
    "\n",
    "import math\n",
    "import matplotlib.pyplot as plt\n",
    "eps = np.finfo(float).eps\n",
    "\n",
    "sys.path.append('../../software/models/')\n",
    "import stft\n",
    "import utilFunctions as UF"
   ]
  },
  {
   "cell_type": "markdown",
   "metadata": {},
   "source": [
    "Write a function that extracts the main lobe of the magnitude spectrum of a window given a window type and its length (`M`). The function should return the samples corresponding to the main lobe in decibels (dB).\n",
    "\n",
    "To compute the spectrum, take the FFT size (`N`) to be 8 times the window length (`N = 8*M`) (For this part, `N` need not be a power of 2). \n",
    "\n",
    "The input arguments to the function are the window type (window) and the length of the window (`M`). \n",
    "The function should return a numpy array containing the samples corresponding to the main lobe of \n",
    "the window. \n",
    "\n",
    "In the returned numpy array you should include the samples corresponding to both the local minimas\n",
    "across the main lobe. \n",
    "\n",
    "The possible window types that you can expect as input are rectangular (`'boxcar'`), `'hamming'` or\n",
    "`'blackmanharris'`.\n",
    "\n",
    "NOTE: You can approach this question in two ways: \n",
    "\n",
    "1) You can write code to find the indices of the local minimas across the main lobe. \n",
    "\n",
    "2) You can manually note down the indices of these local minimas by plotting and a visual inspection of the spectrum of the window. If done manually, the indices have to be obtained for each possible window types separately (as they differ across different window types).\n",
    "\n",
    "Tip: log10(0) is not well defined, so its a common practice to add a small value such as `eps = 1e-16` \n",
    "to the magnitude spectrum before computing it in dB. This is optional and will not affect your answers. \n",
    "If you find it difficult to concatenate the two halves of the main lobe, you can first center the \n",
    "spectrum using `fftshift()` and then compute the indexes of the minimas around the main lobe."
   ]
  },
  {
   "cell_type": "code",
   "execution_count": null,
   "metadata": {},
   "outputs": [],
   "source": [
    "def extractMainLobe(window, M):\n",
    "    \"\"\"\n",
    "    Input:\n",
    "            window (string): Window type to be used (Either rectangular ('boxcar'), 'hamming' or '\n",
    "                blackmanharris')\n",
    "            M (integer): length of the window to be used\n",
    "    Output:\n",
    "            The function should return a numpy array containing the main lobe of the magnitude \n",
    "            spectrum of the window in decibels (dB).\n",
    "    \"\"\"\n",
    "\n",
    "    w = get_window(window, M)         # get the window \n",
    "    \n",
    "    ### Your code here\n",
    "    "
   ]
  },
  {
   "cell_type": "markdown",
   "metadata": {},
   "source": [
    "Test case 1: If you run your code using `window = 'blackmanharris'` and `M = 100`, the output numpy \n",
    "array should contain 65 samples.\n",
    "\n",
    "Test case 2: If you run your code using `window = 'boxcar'` and `M = 120`, the output numpy array \n",
    "should contain 17 samples.\n",
    "\n",
    "Test case 3: If you run your code using `window = 'hamming'` and `M = 256`, the output numpy array \n",
    "should contain 33 samples."
   ]
  },
  {
   "cell_type": "code",
   "execution_count": null,
   "metadata": {},
   "outputs": [],
   "source": [
    "## Your code here\n"
   ]
  },
  {
   "cell_type": "markdown",
   "metadata": {},
   "source": [
    "## Part 2 - Measuring noise in the reconstructed signal using the STFT model "
   ]
  },
  {
   "cell_type": "markdown",
   "metadata": {},
   "source": [
    "Write a function that measures the amount of noise introduced during the analysis and synthesis of a \n",
    "signal using the STFT model. Use SNR (signal to noise ratio) in dB to quantify the amount of noise. \n",
    "Use the `stft()` function in `stft.py` to do an analysis followed by a synthesis of the input signal.\n",
    "\n",
    "A brief description of the SNR computation can be found in the pdf document (`A4-STFT.pdf`, in Relevant \n",
    "Concepts section) in the assignment directory (A4). Use the time domain energy definition to compute\n",
    "the SNR.\n",
    "\n",
    "With the input signal and the obtained output, compute two different SNR values for the following cases:\n",
    "\n",
    "1) `SNR1`: Over the entire length of the input and the output signals.\n",
    "\n",
    "2) `SNR2`: For the segment of the signals left after discarding `M` samples from both the start and the end, where `M` is the analysis window length. Note that this computation is done after STFT analysis and synthesis.\n",
    "\n",
    "The input arguments to the function are the wav file name including the path (`inputFile`), window \n",
    "type (`window`), window length (`M`), FFT size (`N`), and hop size (`H`). The function should return a python \n",
    "tuple of both the SNR values in decibels: `(SNR1, SNR2)`. Both SNR1 and SNR2 are float values. "
   ]
  },
  {
   "cell_type": "code",
   "execution_count": null,
   "metadata": {},
   "outputs": [],
   "source": [
    "def computeSNR(inputFile, window, M, N, H):\n",
    "    \"\"\"\n",
    "    Input:\n",
    "            inputFile (string): wav file name including the path \n",
    "            window (string): analysis window type (choice of rectangular, triangular, hanning, hamming, \n",
    "                    blackman, blackmanharris)\n",
    "            M (integer): analysis window length (odd positive integer)\n",
    "            N (integer): fft size (power of two, > M)\n",
    "            H (integer): hop size for the stft computation\n",
    "    Output:\n",
    "            The function should return a python tuple of both the SNR values (SNR1, SNR2)\n",
    "            SNR1 and SNR2 are floats.\n",
    "    \"\"\"\n",
    "    ## your code here"
   ]
  },
  {
   "cell_type": "markdown",
   "metadata": {},
   "source": [
    "Test case 1: If you run your code using `piano.wav` file with `'blackman'` window, `M = 513`, `N = 2048` and \n",
    "`H = 128`, the output SNR values should be around: `(67.57748352378475, 304.68394693221649)`.\n",
    "\n",
    "Test case 2: If you run your code using `sax-phrase-short.wav` file with `'hamming'` window, `M = 512`, \n",
    "`N = 1024` and `H = 64`, the output SNR values should be around: `(89.510506656299285, 306.18696700251388)`.\n",
    "\n",
    "Test case 3: If you run your code using `rain.wav` file with `'hann'` window, `M = 1024`, `N = 2048` and \n",
    "`H = 128`, the output SNR values should be around: `(74.631476225366825, 304.26918192997738)`.\n",
    "\n",
    "Due to precision differences on different machines/hardware, compared to the expected SNR values, your \n",
    "output values can differ by +/-10dB for `SNR1` and +/-100dB for `SNR2`."
   ]
  },
  {
   "cell_type": "code",
   "execution_count": null,
   "metadata": {},
   "outputs": [],
   "source": [
    "## Your code here\n"
   ]
  },
  {
   "cell_type": "markdown",
   "metadata": {},
   "source": [
    "## Part 3 - Computing band-wise energy envelopes of a signal"
   ]
  },
  {
   "cell_type": "markdown",
   "metadata": {},
   "source": [
    "Write a function that computes band-wise energy envelopes of a given audio signal by using the STFT.\n",
    "Consider two frequency bands for this question, low and high. The low frequency band is the set of \n",
    "all the frequencies between 0 and 3000 Hz and the high frequency band is the set of all the \n",
    "frequencies between 3000 and 10000 Hz (excluding the boundary frequencies in both the cases). \n",
    "At a given frame, the value of the energy envelope of a band can be computed as the sum of squared \n",
    "values of all the frequency coefficients in that band. Compute the energy envelopes in decibels. \n",
    "\n",
    "Refer to `A4-STFT.pdf` document for further details on computing bandwise energy.\n",
    "\n",
    "The input arguments to the function are the wav file name including the path (`inputFile`), window \n",
    "type (`window`), window length (`M`), FFT size (`N`) and hop size (`H`). The function should return a numpy \n",
    "array with two columns, where the first column is the energy envelope of the low frequency band and \n",
    "the second column is that of the high frequency band.\n",
    "\n",
    "Use `stft.stftAnal()` to obtain the STFT magnitude spectrum for all the audio frames. Then compute two \n",
    "energy values for each frequency band specified. While calculating frequency bins for each frequency \n",
    "band, consider only the bins that are within the specified frequency range. For example, for the low \n",
    "frequency band consider only the bins with frequency > 0 Hz and < 3000 Hz (you can use `np.where()` to \n",
    "find those bin indexes). This way we also remove the DC offset in the signal in energy envelope \n",
    "computation. The frequency corresponding to the bin index `k` can be computed as `k*fs/N`, where `fs` is \n",
    "the sampling rate of the signal.\n",
    "\n",
    "To get a better understanding of the energy envelope and its characteristics you can plot the envelopes \n",
    "together with the spectrogram of the signal. You can use `matplotlib` plotting library for this purpose. \n",
    "To visualize the spectrogram of a signal, a good option is to use colormesh. You can reuse the code in\n",
    "`sms-tools/lectures/4-STFT/plots-code/spectrogram.py`. Either overlay the envelopes on the spectrogram \n",
    "or plot them in a different subplot. Make sure you use the same range of the x-axis for both the \n",
    "spectrogram and the energy envelopes.\n",
    "\n",
    "NOTE: Running these test cases might take a few seconds depending on your hardware.\n"
   ]
  },
  {
   "cell_type": "code",
   "execution_count": null,
   "metadata": {},
   "outputs": [],
   "source": [
    "def computeEngEnv(inputFile, window, M, N, H):\n",
    "    \"\"\"\n",
    "    Inputs:\n",
    "            inputFile (string): input sound file (monophonic with sampling rate of 44100)\n",
    "            window (string): analysis window type (choice of rectangular, triangular, hanning, \n",
    "                hamming, blackman, blackmanharris)\n",
    "            M (integer): analysis window size (odd positive integer)\n",
    "            N (integer): FFT size (power of 2, such that N > M)\n",
    "            H (integer): hop size for the stft computation\n",
    "    Output:\n",
    "            The function should return a numpy array engEnv with shape Kx2, K = Number of frames\n",
    "            containing energy envelop of the signal in decibles (dB) scale\n",
    "            engEnv[:,0]: Energy envelope in band 0 < f < 3000 Hz (in dB)\n",
    "            engEnv[:,1]: Energy envelope in band 3000 < f < 10000 Hz (in dB)\n",
    "    \"\"\"\n",
    "    \n",
    "    ### your code here\n",
    "    "
   ]
  },
  {
   "cell_type": "markdown",
   "metadata": {},
   "source": [
    "Test case 1: Use `piano.wav` file with `window = 'blackman'`, `M = 513`, `N = 1024` and `H = 128` as input. \n",
    "The bin indexes of the low frequency band span from 1 to 69 (69 samples) and of the high frequency \n",
    "band span from 70 to 232 (163 samples). To numerically compare your output, use `loadTestCases.py`\n",
    "script to obtain the expected output.\n",
    "\n",
    "Test case 2: Use `piano.wav` file with `window = 'blackman'`, `M = 2047`, `N = 4096` and `H = 128` as input. \n",
    "The bin indexes of the low frequency band span from 1 to 278 (278 samples) and of the high frequency \n",
    "band span from 279 to 928 (650 samples). To numerically compare your output, use `loadTestCases.py` script to obtain the expected output.\n",
    "\n",
    "Test case 3: Use `sax-phrase-short.wav` file with `window = 'hamming'`, `M = 513`, `N = 2048` and `H = 256` as \n",
    "input. The bin indexes of the low frequency band span from 1 to 139 (139 samples) and of the high \n",
    "frequency band span from 140 to 464 (325 samples). To numerically compare your output, use \n",
    "`loadTestCases.py` script to obtain the expected output.\n",
    "\n",
    "In addition to comparing results with the expected output, you can also plot your output for these \n",
    "test cases.You can clearly notice the sharp attacks and decay of the piano notes for test case 1 \n",
    "(See figure in the accompanying pdf). You can compare this with the output from test case 2 that \n",
    "uses a larger window. You can infer the influence of window size on sharpness of the note attacks \n",
    "and discuss it on the forums."
   ]
  },
  {
   "cell_type": "code",
   "execution_count": null,
   "metadata": {},
   "outputs": [],
   "source": [
    "## Your code here\n"
   ]
  },
  {
   "cell_type": "markdown",
   "metadata": {},
   "source": [
    "## Part 4 - Computing onset detection function (Optional)"
   ]
  },
  {
   "cell_type": "markdown",
   "metadata": {},
   "source": [
    "Write a function to compute a simple onset detection function (ODF) using the STFT. Compute two ODFs \n",
    "one for each of the frequency bands, low and high. The low frequency band is the set of all the \n",
    "frequencies between 0 and 3000 Hz and the high frequency band is the set of all the frequencies \n",
    "between 3000 and 10000 Hz (excluding the boundary frequencies in both the cases). \n",
    "\n",
    "A brief description of the onset detection function can be found in the pdf document (`A4-STFT.pdf`, \n",
    "in Relevant Concepts section) in the assignment directory (`A4`). Start with an initial condition of \n",
    "`ODF(0) = 0` in order to make the length of the ODF same as that of the energy envelope. Remember to \n",
    "apply a half wave rectification on the ODF. \n",
    "\n",
    "The input arguments to the function are the wav file name including the path (`inputFile`), window \n",
    "type (`window`), window length (`M`), FFT size (`N`), and hop size (`H`). The function should return a numpy \n",
    "array with two columns, where the first column is the ODF computed on the low frequency band and the \n",
    "second column is the ODF computed on the high frequency band.\n",
    "\n",
    "Use `stft.stftAnal()` to obtain the STFT magnitude spectrum for all the audio frames. Then compute two \n",
    "energy values for each frequency band specified. While calculating frequency bins for each frequency \n",
    "band, consider only the bins that are within the specified frequency range. For example, for the low \n",
    "frequency band consider only the bins with frequency > 0 Hz and < 3000 Hz (you can use `np.where()` to \n",
    "find those bin indexes). This way we also remove the DC offset in the signal in energy envelope \n",
    "computation. The frequency corresponding to the bin index `k` can be computed as `k*fs/N`, where `fs` is \n",
    "the sampling rate of the signal.\n",
    "\n",
    "To get a better understanding of the energy envelope and its characteristics you can plot the envelopes \n",
    "together with the spectrogram of the signal. You can use matplotlib plotting library for this purpose. \n",
    "To visualize the spectrogram of a signal, a good option is to use colormesh. You can reuse the code in\n",
    "`sms-tools/lectures/4-STFT/plots-code/spectrogram.py`. Either overlay the envelopes on the spectrogram \n",
    "or plot them in a different subplot. Make sure you use the same range of the x-axis for both the \n",
    "spectrogram and the energy envelopes.\n",
    "\n",
    "NOTE: Running these test cases might take a few seconds depending on your hardware."
   ]
  },
  {
   "cell_type": "code",
   "execution_count": null,
   "metadata": {},
   "outputs": [],
   "source": [
    "def computeODF(inputFile, window, M, N, H):\n",
    "    \"\"\"\n",
    "    Inputs:\n",
    "            inputFile (string): input sound file (monophonic with sampling rate of 44100)\n",
    "            window (string): analysis window type (choice of rectangular, triangular, hanning, hamming, \n",
    "                blackman, blackmanharris)\n",
    "            M (integer): analysis window size (odd integer value)\n",
    "            N (integer): fft size (power of two, bigger or equal than than M)\n",
    "            H (integer): hop size for the STFT computation\n",
    "    Output:\n",
    "            The function should return a numpy array with two columns, where the first column is the ODF \n",
    "            computed on the low frequency band and the second column is the ODF computed on the high \n",
    "            frequency band.\n",
    "            ODF[:,0]: ODF computed in band 0 < f < 3000 Hz \n",
    "            ODF[:,1]: ODF computed in band 3000 < f < 10000 Hz\n",
    "    \"\"\"\n",
    "    \n",
    "    ### your code here"
   ]
  },
  {
   "cell_type": "markdown",
   "metadata": {},
   "source": [
    "Test case 1: Use `piano.wav` file with `window = 'blackman'`, `M = 513`, `N = 1024` and `H = 128` as input. \n",
    "The bin indexes of the low frequency band span from 1 to 69 (69 samples) and of the high frequency \n",
    "band span from 70 to 232 (163 samples). To numerically compare your output, use `loadTestCases.py`\n",
    "script to obtain the expected output.\n",
    "\n",
    "Test case 2: Use `piano.wav` file with `window = 'blackman'`, `M = 2047`, `N = 4096` and `H = 128` as input. \n",
    "The bin indexes of the low frequency band span from 1 to 278 (278 samples) and of the high frequency \n",
    "band span from 279 to 928 (650 samples). To numerically compare your output, use `loadTestCases.py`\n",
    "script to obtain the expected output.\n",
    "\n",
    "Test case 3: Use `sax-phrase-short.wav` file with `window = 'hamming'`, `M = 513`, `N = 2048` and `H = 256` as \n",
    "input. The bin indexes of the low frequency band span from 1 to 139 (139 samples) and of the high \n",
    "frequency band span from 140 to 464 (325 samples). To numerically compare your output, use \n",
    "`loadTestCases.py` script to obtain the expected output.\n",
    "\n",
    "In addition to comparing results with the expected output, you can also plot your output for these \n",
    "test cases. For test case 1, you can clearly see that the ODFs have sharp peaks at the onset of the \n",
    "piano notes (See figure in the accompanying pdf). You will notice exactly 6 peaks that are above \n",
    "10 dB value in the ODF computed on the high frequency band. "
   ]
  },
  {
   "cell_type": "code",
   "execution_count": null,
   "metadata": {},
   "outputs": [],
   "source": [
    "## Your code here\n"
   ]
  }
 ],
 "metadata": {
  "kernelspec": {
   "display_name": "Python 3",
   "language": "python",
   "name": "python3"
  },
  "language_info": {
   "codemirror_mode": {
    "name": "ipython",
    "version": 3
   },
   "file_extension": ".py",
   "mimetype": "text/x-python",
   "name": "python",
   "nbconvert_exporter": "python",
   "pygments_lexer": "ipython3",
   "version": "3.5.2"
  }
 },
 "nbformat": 4,
 "nbformat_minor": 2
}
